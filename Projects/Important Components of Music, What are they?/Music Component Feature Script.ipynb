{
 "cells": [
  {
   "cell_type": "code",
   "execution_count": null,
   "id": "e6d72062",
   "metadata": {},
   "outputs": [],
   "source": [
    "import numpy as np\n",
    "import pandas as pd\n",
    "import matplotlib.pyplot as plt\n",
    "from sklearn.model_selection import train_test_split\n",
    "from sklearn.ensemble import RandomForestRegressor\n",
    "from sklearn.metrics import mean_squared_error"
   ]
  },
  {
   "cell_type": "code",
   "execution_count": null,
   "id": "8c8f4cd2",
   "metadata": {},
   "outputs": [],
   "source": [
    "df = pd.read_csv('bbTop100.csv')"
   ]
  },
  {
   "cell_type": "code",
   "execution_count": null,
   "id": "a49bd784",
   "metadata": {},
   "outputs": [],
   "source": [
    "df.head()"
   ]
  },
  {
   "cell_type": "code",
   "execution_count": null,
   "id": "c5939f7b",
   "metadata": {},
   "outputs": [],
   "source": [
    "df.info()"
   ]
  },
  {
   "cell_type": "code",
   "execution_count": null,
   "id": "161497b3",
   "metadata": {
    "scrolled": true
   },
   "outputs": [],
   "source": [
    "# Create new DataFrame \n",
    "music_df = df.copy()\n",
    "\n",
    "# Create a new column 'chart_position' \n",
    "music_df['chart_position'] = np.nan\n",
    "\n",
    "# Iterate over unique years \n",
    "for year in music_df['year'].unique():\n",
    "    # Get the indices \n",
    "    year_indices = music_df[music_df['year'] == year].index\n",
    "    # Generate random positions \n",
    "    positions = np.random.choice(range(1, 101), size=len(year_indices), replace=False)\n",
    "    # Update the 'chart_position' \n",
    "    music_df.loc[year_indices, 'chart_position'] = positions\n",
    "\n",
    "# Convert the 'chart_position' \n",
    "music_df['chart_position'] = music_df['chart_position'].astype(int)\n"
   ]
  },
  {
   "cell_type": "code",
   "execution_count": null,
   "id": "06748dda",
   "metadata": {},
   "outputs": [],
   "source": [
    "music_df.head()"
   ]
  },
  {
   "cell_type": "code",
   "execution_count": null,
   "id": "796f37e4",
   "metadata": {
    "scrolled": true
   },
   "outputs": [],
   "source": [
    "# By Year\n",
    "\n",
    "# Prepare data \n",
    "features = ['danceability', 'energy', 'key', 'loudness', 'mode', 'speechiness', 'acousticness', 'instrumentalness', 'liveness', 'valence', 'tempo', 'duration_ms']\n",
    "target = 'chart_position'\n",
    "\n",
    "# Dictionary \n",
    "feature_importances_by_year = {}\n",
    "\n",
    "# Iterate \n",
    "for year in music_df['year'].unique():\n",
    "    # Filter \n",
    "    year_data = music_df[music_df['year'] == year]\n",
    "    \n",
    "    # Split data \n",
    "    X = year_data[features]\n",
    "    y = year_data[target]\n",
    "    \n",
    "    # Training and testing sets\n",
    "    X_train, X_test, y_train, y_test = train_test_split(X, y, test_size=0.2, random_state=42)\n",
    "    \n",
    "    # Random Forest regressor\n",
    "    model = RandomForestRegressor(n_estimators=100, random_state=42)\n",
    "    model.fit(X_train, y_train)\n",
    "    \n",
    "    # Predict chart_position on test set\n",
    "    y_pred = model.predict(X_test)\n",
    "    \n",
    "    # Mean squared error \n",
    "    mse = mean_squared_error(y_test, y_pred)\n",
    "    print(f\"Year: {year}, Mean Squared Error: {mse}\")\n",
    "    \n",
    "    # Store feature importances \n",
    "    feature_importances_by_year[year] = model.feature_importances_\n",
    "\n",
    "# Analyze feature importances by year\n",
    "for year, importances in feature_importances_by_year.items():\n",
    "    print(f\"Year: {year}\")\n",
    "    for feature, importance in zip(features, importances):\n",
    "        print(f\"{feature}: {importance}\")\n"
   ]
  },
  {
   "cell_type": "code",
   "execution_count": null,
   "id": "d52ca1cd",
   "metadata": {
    "scrolled": true
   },
   "outputs": [],
   "source": [
    "# By Decades\n",
    "\n",
    "# Prepare data \n",
    "features = ['danceability', 'energy', 'key', 'loudness', 'mode', 'speechiness', 'acousticness', 'instrumentalness', 'liveness', 'valence', 'tempo', 'duration_ms']\n",
    "target = 'chart_position'\n",
    "\n",
    "# Group data \n",
    "music_df['decade'] = music_df['year'] // 10 * 10\n",
    "\n",
    "# Dictionary\n",
    "feature_importances_by_decade = {}\n",
    "\n",
    "# Iterate \n",
    "for decade in music_df['decade'].unique():\n",
    "    # Filter \n",
    "    decade_data = music_df[music_df['decade'] == decade]\n",
    "    \n",
    "    # Split \n",
    "    X = decade_data[features]\n",
    "    y = decade_data[target]\n",
    "    \n",
    "    # Ttraining and testing sets\n",
    "    X_train, X_test, y_train, y_test = train_test_split(X, y, test_size=0.2, random_state=42)\n",
    "    \n",
    "    # Train Random Forest regressor\n",
    "    model = RandomForestRegressor(n_estimators=100, random_state=42)\n",
    "    model.fit(X_train, y_train)\n",
    "    \n",
    "    # Predict \n",
    "    y_pred = model.predict(X_test)\n",
    "    \n",
    "    # Mean squared error \n",
    "    mse = mean_squared_error(y_test, y_pred)\n",
    "    print(f\"Decade: {decade}s, Mean Squared Error: {mse}\")\n",
    "    \n",
    "    # Feature importances current decade\n",
    "    feature_importances_by_decade[decade] = model.feature_importances_\n",
    "\n",
    "for decade, importances in feature_importances_by_decade.items():\n",
    "    print(f\"Decade: {decade}s\")\n",
    "    for feature, importance in zip(features, importances):\n",
    "        print(f\"{feature}: {importance}\")\n"
   ]
  },
  {
   "cell_type": "code",
   "execution_count": null,
   "id": "328ac42b",
   "metadata": {
    "scrolled": true
   },
   "outputs": [],
   "source": [
    "\n",
    "# Prepare data \n",
    "features = ['danceability', 'energy', 'key', 'loudness', 'mode', 'speechiness', 'acousticness', 'instrumentalness', 'liveness', 'valence', 'tempo', 'duration_ms']\n",
    "target = 'chart_position'\n",
    "\n",
    "# Split \n",
    "X = music_df[features]\n",
    "y = music_df[target]\n",
    "\n",
    "# Split \n",
    "X_train, X_test, y_train, y_test = train_test_split(X, y, test_size=0.2, random_state=42)\n",
    "\n",
    "# Random Forest regressor\n",
    "model = RandomForestRegressor(n_estimators=100, random_state=42)\n",
    "model.fit(X_train, y_train)\n",
    "\n",
    "# Predict \n",
    "y_pred = model.predict(X_test)\n",
    "\n",
    "mse = mean_squared_error(y_test, y_pred)\n",
    "print(f\"Overall, Mean Squared Error: {mse}\")\n",
    "\n",
    "importances = model.feature_importances_\n",
    "\n",
    "feature_importance_df = pd.DataFrame({'Feature': features, 'Importance': importances})\n",
    "\n",
    "# Sort \n",
    "feature_importance_df = feature_importance_df.sort_values(by='Importance', ascending=False)\n",
    "\n",
    "print(feature_importance_df)\n"
   ]
  },
  {
   "cell_type": "code",
   "execution_count": null,
   "id": "7fb90041",
   "metadata": {},
   "outputs": [],
   "source": [
    "# Overall\n",
    "feature_importance_df"
   ]
  },
  {
   "cell_type": "code",
   "execution_count": null,
   "id": "b90b7d00",
   "metadata": {},
   "outputs": [],
   "source": [
    "# By Decade\n",
    "\n",
    "# Prepare data \n",
    "features = ['danceability', 'energy', 'key', 'loudness', 'mode', 'speechiness', 'acousticness', 'instrumentalness', 'liveness', 'valence', 'tempo', 'duration_ms']\n",
    "target = 'chart_position'\n",
    "\n",
    "# By decade\n",
    "music_df['decade'] = music_df['year'] // 10 * 10\n",
    "\n",
    "# Dictionary \n",
    "feature_importances_by_decade = {}\n",
    "\n",
    "# Iterate \n",
    "for decade in music_df['decade'].unique():\n",
    "    # Filter \n",
    "    decade_data = music_df[music_df['decade'] == decade]\n",
    "    \n",
    "    # Split \n",
    "    X = decade_data[features]\n",
    "    y = decade_data[target]\n",
    "    \n",
    "    model = RandomForestRegressor(n_estimators=100, random_state=42)\n",
    "    model.fit(X, y)\n",
    "    \n",
    "    # Features\n",
    "    importances = model.feature_importances_\n",
    "    \n",
    "    feature_importance_df = pd.DataFrame({'Feature': features, 'Importance': importances})\n",
    "    \n",
    "    feature_importance_df = feature_importance_df.sort_values(by='Importance', ascending=False)\n",
    "    \n",
    "    feature_importances_by_decade[decade] = feature_importance_df\n",
    "\n",
    "for decade, importance_df in feature_importances_by_decade.items():\n",
    "    print(f\"Decade: {decade}s\")\n",
    "    print(importance_df)\n"
   ]
  },
  {
   "cell_type": "code",
   "execution_count": null,
   "id": "078c40de",
   "metadata": {},
   "outputs": [],
   "source": [
    "print(importance_df)"
   ]
  },
  {
   "cell_type": "code",
   "execution_count": null,
   "id": "5a2d4cb9",
   "metadata": {
    "scrolled": false
   },
   "outputs": [],
   "source": [
    "\n",
    "# Iterate and plot feature importances\n",
    "for decade, importance_df in feature_importances_by_decade.items():\n",
    "    plt.figure(figsize=(10, 6))\n",
    "    plt.bar(importance_df['Feature'], importance_df['Importance'])\n",
    "    plt.title(f\"Feature Importances for {decade}s\")\n",
    "    plt.xlabel(\"Feature\")\n",
    "    plt.ylabel(\"Importance\")\n",
    "    plt.xticks(rotation=45, ha='right')\n",
    "    plt.tight_layout()\n",
    "    plt.show()\n"
   ]
  },
  {
   "cell_type": "code",
   "execution_count": null,
   "id": "c4d738d7",
   "metadata": {},
   "outputs": [],
   "source": [
    "\n",
    "overall_importance_df = pd.DataFrame({'Feature': features, 'Importance': importances})\n",
    "\n",
    "# Sort overall feature importances by importance value\n",
    "overall_importance_df = overall_importance_df.sort_values(by='Importance', ascending=False)\n",
    "\n",
    "# Plot \n",
    "plt.figure(figsize=(10, 6))\n",
    "plt.bar(overall_importance_df['Feature'], overall_importance_df['Importance'], color='red')\n",
    "plt.title(\"Overall Feature Importances\")\n",
    "plt.xlabel(\"Feature\")\n",
    "plt.ylabel(\"Importance\")\n",
    "plt.xticks(rotation=45, ha='right')\n",
    "plt.tight_layout()\n",
    "plt.show()\n"
   ]
  },
  {
   "cell_type": "code",
   "execution_count": null,
   "id": "4bddca12",
   "metadata": {},
   "outputs": [],
   "source": []
  }
 ],
 "metadata": {
  "kernelspec": {
   "display_name": "Python 3 (ipykernel)",
   "language": "python",
   "name": "python3"
  },
  "language_info": {
   "codemirror_mode": {
    "name": "ipython",
    "version": 3
   },
   "file_extension": ".py",
   "mimetype": "text/x-python",
   "name": "python",
   "nbconvert_exporter": "python",
   "pygments_lexer": "ipython3",
   "version": "3.8.2"
  }
 },
 "nbformat": 4,
 "nbformat_minor": 5
}
